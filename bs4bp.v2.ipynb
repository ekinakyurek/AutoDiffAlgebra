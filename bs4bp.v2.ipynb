{
 "cells": [
  {
   "cell_type": "code",
   "execution_count": 1,
   "metadata": {},
   "outputs": [],
   "source": [
    "using LinearAlgebra"
   ]
  },
  {
   "cell_type": "code",
   "execution_count": 2,
   "metadata": {},
   "outputs": [
    {
     "data": {
      "text/plain": [
       "\\ (generic function with 152 methods)"
      ]
     },
     "execution_count": 2,
     "metadata": {},
     "output_type": "execute_result"
    }
   ],
   "source": [
    "# Fixes needed in Julia\n",
    "import Base: \\\n",
    "\n",
    "function LinearAlgebra.Bidiagonal(dv::Vector{T}, ev::Vector{S}, uplo::Symbol) where {T,S}\n",
    "    TS = promote_type(T,S)\n",
    "    return Bidiagonal{TS,Vector{TS}}(dv, ev, uplo)\n",
    "end\n",
    "\n",
    "## The base method narrows the type too much. We'll have to ensure that it's as least as wide as the input\n",
    "function \\(adjA::Adjoint{<:Any,<:Union{UnitUpperTriangular,UnitLowerTriangular}}, B::AbstractVector)\n",
    "    A = adjA.parent\n",
    "    TAB = promote_type(eltype(A), eltype(B), typeof(zero(eltype(A))*zero(eltype(B)) + zero(eltype(A))*zero(eltype(B))))\n",
    "    BB = similar(B, TAB, size(B))\n",
    "    copyto!(BB, B)\n",
    "    ldiv!(adjoint(convert(AbstractArray{TAB}, A)), BB)\n",
    "end"
   ]
  },
  {
   "cell_type": "code",
   "execution_count": 3,
   "metadata": {},
   "outputs": [
    {
     "data": {
      "text/plain": [
       "array (generic function with 1 method)"
      ]
     },
     "execution_count": 3,
     "metadata": {},
     "output_type": "execute_result"
    }
   ],
   "source": [
    "h(x) = exp(-x)\n",
    "h′(x,y) = -y\n",
    "𝓁(x,y) = sum(abs2,x-y)/2\n",
    "𝓁′(x,y) = x-y\n",
    "init(sizes...) = 0.1randn(sizes...)\n",
    "array(A) = fill.(A, 1, 1)"
   ]
  },
  {
   "cell_type": "code",
   "execution_count": 6,
   "metadata": {},
   "outputs": [
    {
     "data": {
      "text/plain": [
       "7"
      ]
     },
     "execution_count": 6,
     "metadata": {},
     "output_type": "execute_result"
    }
   ],
   "source": [
    "𝜀 = 0.0001\n",
    "n = [5,4,3,1]\n",
    "N = length(n)-1\n",
    "B = 7"
   ]
  },
  {
   "cell_type": "markdown",
   "metadata": {},
   "source": [
    "### Scalar Neural Network"
   ]
  },
  {
   "cell_type": "code",
   "execution_count": 7,
   "metadata": {},
   "outputs": [
    {
     "data": {
      "text/plain": [
       "neural_net (generic function with 1 method)"
      ]
     },
     "execution_count": 7,
     "metadata": {},
     "output_type": "execute_result"
    }
   ],
   "source": [
    "function neural_net(params, input; h=h, h′=h′, N=length(params))\n",
    "    δ = []\n",
    "    X = [input]\n",
    "    for i in 1:N\n",
    "        x = sum(params[i] .* [X[i],1])\n",
    "        push!(X,h(x))\n",
    "        push!(δ, h′.(x,X[i+1]))\n",
    "    end\n",
    "    return X,δ\n",
    "end\n"
   ]
  },
  {
   "cell_type": "code",
   "execution_count": 8,
   "metadata": {},
   "outputs": [
    {
     "data": {
      "text/plain": [
       "(-0.2627594087878217, -0.035432865331720395)"
      ]
     },
     "execution_count": 8,
     "metadata": {},
     "output_type": "execute_result"
    }
   ],
   "source": [
    "params =[[init(),init()] for i=1:N] # W and B\n",
    "x,y = init(),init() # input and output"
   ]
  },
  {
   "cell_type": "code",
   "execution_count": 9,
   "metadata": {},
   "outputs": [
    {
     "data": {
      "text/plain": [
       "3-element Array{Array{Float64,1},1}:\n",
       " [0.00196596, -0.00748199]\n",
       " [-0.11963, -0.130996]    \n",
       " [-1.1859, -1.0867]       "
      ]
     },
     "execution_count": 9,
     "metadata": {},
     "output_type": "execute_result"
    }
   ],
   "source": [
    "X,δ = neural_net(params,x)\n",
    "L   = Bidiagonal(zeros(N),[δ[i] * params[i][1] for i=2:N],:L)\n",
    "D   = Diagonal(δ.*[[X[i],1]' for i=1:N])\n",
    "g   = [zeros(N-1);𝓁′(X[N+1],y)]\n",
    "∇J  = D'*((I-L')\\g)"
   ]
  },
  {
   "cell_type": "code",
   "execution_count": 10,
   "metadata": {},
   "outputs": [
    {
     "data": {
      "text/plain": [
       "3-element Array{Array{Float64,1},1}:\n",
       " [0.00196596, -0.00748199]\n",
       " [-0.11963, -0.130996]    \n",
       " [-1.1859, -1.0867]       "
      ]
     },
     "execution_count": 10,
     "metadata": {},
     "output_type": "execute_result"
    }
   ],
   "source": [
    "# ∇Jfd is gradient calculated with finite differences method\n",
    "∇Jfd = ∇J * 0\n",
    "ϵ    = ∇J * 0\n",
    "for i in 1:N, j in 1:2       \n",
    "    ϵ[i][j] = 𝜀\n",
    "    ∇Jfd[i][j]=(𝓁(neural_net(params.+ϵ,x)[1][N+1],y)-𝓁(neural_net(params.-ϵ,x)[1][N+1],y))/2𝜀\n",
    "    ϵ[i][j] = .0\n",
    "end\n",
    "∇Jfd"
   ]
  },
  {
   "cell_type": "code",
   "execution_count": 11,
   "metadata": {},
   "outputs": [],
   "source": [
    "using LinearAlgebra\n",
    "import Base: +,-,*,/,∘\n",
    "\n",
    "abstract type Map{T} end\n",
    "\n",
    "struct RightMul{T} <: Map{T}\n",
    "    A::T\n",
    "end\n",
    "Base.copy(K::RightMul) = RightMul(copy(K.A))\n",
    "-(K::RightMul) = RightMul(-K.A)\n",
    "*(K::RightMul, X::Union{AbstractArray,Number}) =  X * K.A\n",
    "Base.adjoint(K::RightMul) = RightMul(K.A')\n",
    "\n",
    "\n",
    "struct HadMul{T} <: Map{T}\n",
    "    A::T\n",
    "end\n",
    "Base.copy(K::HadMul) = HadMul(copy(K.A))\n",
    "-(X::HadMul) = HadMul(-X.A)\n",
    "*(X::HadMul, Y::Union{AbstractArray,Number}) = X.A .* Y\n",
    "*(Y::Union{AbstractArray,Number}, X::HadMul) = Y .* X.A\n",
    "Base.adjoint(X::HadMul) = HadMul(X.A)\n",
    "\n",
    "# A zero\n",
    "struct Zero end\n",
    "Base.zero(::Type{Any}) = Zero()\n",
    "+(::Zero, ::Zero) = Zero()\n",
    "-(::Zero, A) = -A\n",
    "*(::Zero, ::Zero) = Zero()\n",
    "\n",
    "# Composition of Mappings. It applies a chain of two operation.\n",
    "struct Composition{TA,TB} <: Map{Union{TA,TB}}\n",
    "    A::TA\n",
    "    B::TB\n",
    "end\n",
    "∘(A::Map, B) = Composition(A, B)\n",
    "∘(A, B::Map) = Composition(A, B)\n",
    "∘(A::Map, B::Map) = Composition(A, B)\n",
    "*(C::Composition, X::Union{AbstractArray,Number}) = C.A*(C.B*X)\n",
    "Base.adjoint(K::Composition) = K.B' ∘ K.A'\n",
    "-(K::Composition) = Composition(-K.A, K.B)\n",
    "Base.copy(K::Composition) = Composition(copy(K.A), copy(K.B))"
   ]
  },
  {
   "cell_type": "markdown",
   "metadata": {},
   "source": [
    "### Simple Matrix Neural Network"
   ]
  },
  {
   "cell_type": "code",
   "execution_count": 12,
   "metadata": {},
   "outputs": [
    {
     "data": {
      "text/plain": [
       "neural_net (generic function with 1 method)"
      ]
     },
     "execution_count": 12,
     "metadata": {},
     "output_type": "execute_result"
    }
   ],
   "source": [
    "function neural_net(params,input;h=h,h′= h′)\n",
    "    X     = [input]\n",
    "    δ     = []\n",
    "    for i=1:length(params)\n",
    "        x = params[i][1]*X[i] .+ params[i][2]         \n",
    "        push!(X,h.(x))\n",
    "        push!(δ,h′.(x,X[i+1]))\n",
    "    end \n",
    "    X,δ\n",
    "end\n"
   ]
  },
  {
   "cell_type": "code",
   "execution_count": 13,
   "metadata": {},
   "outputs": [
    {
     "data": {
      "text/plain": [
       "([0.0827806 0.0546721 … 0.211481 0.0421459; -0.0312396 -0.0393926 … -0.0730213 0.0210276; … ; 0.116678 0.0724615 … -0.0410583 0.0759445; 0.210051 -0.0300454 … -0.158249 0.234255], [0.137431 0.149247 … -0.0285414 -0.0848659])"
      ]
     },
     "execution_count": 13,
     "metadata": {},
     "output_type": "execute_result"
    }
   ],
   "source": [
    "# params: `Wi` and `Bi`s\n",
    "params =[[init(n[i+1],n[i]),init(n[i+1])] for i in 1:N]\n",
    "x, y = init(n[1],B), init(1,B)"
   ]
  },
  {
   "cell_type": "code",
   "execution_count": 14,
   "metadata": {},
   "outputs": [
    {
     "ename": "ErrorException",
     "evalue": "Element type mismatch. Tried to create an `Adjoint{Union{##56#57{_1,_2} where _2 where _1, Composition{_1,_2} where _2 where _1, HadMul{_1} where _1, RightMul{_1} where _1}}` from an object with eltype `Map`, but the element type of the adjoint of an object with eltype `Map` must be `Union{##56#57{_1,_2} where _2 where _1, Composition{_1,_2} where _2 where _1, HadMul{_1} where _1, RightMul{_1} where _1}`.",
     "output_type": "error",
     "traceback": [
      "Element type mismatch. Tried to create an `Adjoint{Union{##56#57{_1,_2} where _2 where _1, Composition{_1,_2} where _2 where _1, HadMul{_1} where _1, RightMul{_1} where _1}}` from an object with eltype `Map`, but the element type of the adjoint of an object with eltype `Map` must be `Union{##56#57{_1,_2} where _2 where _1, Composition{_1,_2} where _2 where _1, HadMul{_1} where _1, RightMul{_1} where _1}`.",
      "",
      "Stacktrace:",
      " [1] error(::String) at ./error.jl:33",
      " [2] checkeltype_adjoint(::Type{Union{##56#57{_1,_2} where _2 where _1, Composition{_1,_2} where _2 where _1, HadMul{_1} where _1, RightMul{_1} where _1}}, ::Type{Map}) at /Users/osx/buildbot/slave/package_osx64/build/usr/share/julia/stdlib/v1.1/LinearAlgebra/src/adjtrans.jl:28",
      " [3] Adjoint{Union{##56#57{_1,_2} where _2 where _1, Composition{_1,_2} where _2 where _1, HadMul{_1} where _1, RightMul{_1} where _1},Array{Map,2}}(::Array{Map,2}) at /Users/osx/buildbot/slave/package_osx64/build/usr/share/julia/stdlib/v1.1/LinearAlgebra/src/adjtrans.jl:14",
      " [4] Adjoint(::Array{Map,2}) at /Users/osx/buildbot/slave/package_osx64/build/usr/share/julia/stdlib/v1.1/LinearAlgebra/src/adjtrans.jl:47",
      " [5] adjoint(::Array{Map,2}) at /Users/osx/buildbot/slave/package_osx64/build/usr/share/julia/stdlib/v1.1/LinearAlgebra/src/adjtrans.jl:76",
      " [6] _broadcast_getindex_evalf at ./broadcast.jl:578 [inlined]",
      " [7] _broadcast_getindex at ./broadcast.jl:551 [inlined]",
      " [8] getindex at ./broadcast.jl:511 [inlined]",
      " [9] copy at ./broadcast.jl:787 [inlined]",
      " [10] materialize at ./broadcast.jl:753 [inlined]",
      " [11] adjoint(::Diagonal{Array{Map,2},Array{Array{Map,2},1}}) at /Users/osx/buildbot/slave/package_osx64/build/usr/share/julia/stdlib/v1.1/LinearAlgebra/src/diagonal.jl:440",
      " [12] top-level scope at In[14]:5"
     ]
    }
   ],
   "source": [
    "X,δ = neural_net(params,x)\n",
    "D   = Diagonal([[HadMul(δ[i]) ∘ RightMul(X[i]) HadMul(δ[i])] for i in 1:N])\n",
    "ImL = Bidiagonal([I for i in 1:N], -[HadMul(δ[i]) ∘ params[i][1] for i in 2:N] , :L)\n",
    "g   = [Zero(), Zero(), 𝓁′(X[N+1],y)]\n",
    "∇J  = D'*fill.(ImL'\\g, 1, 1)"
   ]
  },
  {
   "cell_type": "code",
   "execution_count": 16,
   "metadata": {},
   "outputs": [
    {
     "data": {
      "text/plain": [
       "3-element Array{Array{Array{Float64,N} where N,1},1}:\n",
       " [[-0.00223817 0.003415 … -0.00406045 -0.00840857; -3.64179e-5 3.76352e-5 … -4.31771e-5 -7.77601e-5; 0.00325625 -0.00543696 … 0.00662553 0.0140046; -0.000646001 0.000998548 … -0.00125042 -0.00258659], [-0.0813833, -0.000935114, 0.13075, -0.0247087]]\n",
       " [[0.0908113 0.088169 0.0936524 0.103466; 0.840605 0.816417 0.867172 0.957789; 0.0855697 0.0830889 0.0882575 0.0974874], [0.0821645, 0.760645, 0.0774244]]                                                                                               \n",
       " [[-4.99603 -5.81764 -4.03329], [-5.26953]]                                                                                                                                                                                                              "
      ]
     },
     "execution_count": 16,
     "metadata": {},
     "output_type": "execute_result"
    }
   ],
   "source": [
    "# ∇Jfd is gradient calculated with finite differences method\n",
    "∇Jfd = params*0\n",
    "ϵ = params*0\n",
    "for i in 1:length(params), wb in 1:2\n",
    "    for j in 1:length(ϵ[i][wb])\n",
    "        ϵ[i][wb][j] = 𝜀\n",
    "        ∇Jfd[i][wb][j] =(𝓁(neural_net(params+ϵ,x)[1][N+1],y)-𝓁(neural_net(params-ϵ,x)[1][N+1],y))/2𝜀\n",
    "        ϵ[i][wb][j] = .0\n",
    "     end\n",
    "end\n",
    "∇Jfd"
   ]
  },
  {
   "cell_type": "code",
   "execution_count": 17,
   "metadata": {},
   "outputs": [
    {
     "data": {
      "text/plain": [
       "4×5 Array{Float64,2}:\n",
       " -0.00223817    0.003415      0.000465945  -0.00406045  -0.00840857\n",
       " -3.64179e-5    3.76352e-5    9.1481e-6    -4.31771e-5  -7.77601e-5\n",
       "  0.00325625   -0.00543696   -0.000728925   0.00662553   0.0140046 \n",
       " -0.000646001   0.000998548   0.000189926  -0.00125042  -0.00258659"
      ]
     },
     "execution_count": 17,
     "metadata": {},
     "output_type": "execute_result"
    }
   ],
   "source": [
    "∇Jfd[1][1]"
   ]
  },
  {
   "cell_type": "code",
   "execution_count": 18,
   "metadata": {},
   "outputs": [
    {
     "data": {
      "text/plain": [
       "0.0019659633544817966"
      ]
     },
     "execution_count": 18,
     "metadata": {},
     "output_type": "execute_result"
    }
   ],
   "source": [
    "∇J[1][1]"
   ]
  },
  {
   "cell_type": "markdown",
   "metadata": {},
   "source": [
    "### Densely Connected Matrix Network"
   ]
  },
  {
   "cell_type": "code",
   "execution_count": 19,
   "metadata": {},
   "outputs": [],
   "source": [
    "function neural_net(params,input;h=h, h′= h′)\n",
    "    X     = [input]\n",
    "    δ     = []\n",
    "    for i in 1:length(params)\n",
    "       x = broadcast(+,(params[i] .* [X..., I])...)\n",
    "       push!(X,h.(x))\n",
    "       push!(δ,h′.(x,X[i+1]))\n",
    "    end \n",
    "    X,δ\n",
    "end;"
   ]
  },
  {
   "cell_type": "code",
   "execution_count": 20,
   "metadata": {},
   "outputs": [],
   "source": [
    "params = [[j==i+1 ?  init(n[i+1],1) : init(n[i+1],n[j])  for j in 1:i+1] for i in 1:N]\n",
    "x,y = init(n[1],B), init(1,B);"
   ]
  },
  {
   "cell_type": "code",
   "execution_count": 21,
   "metadata": {},
   "outputs": [
    {
     "ename": "ErrorException",
     "evalue": "Element type mismatch. Tried to create an `Adjoint{Union{##56#57{_1,_2} where _2 where _1, Composition{_1,_2} where _2 where _1, HadMul{_1} where _1, RightMul{_1} where _1}}` from an object with eltype `Map`, but the element type of the adjoint of an object with eltype `Map` must be `Union{##56#57{_1,_2} where _2 where _1, Composition{_1,_2} where _2 where _1, HadMul{_1} where _1, RightMul{_1} where _1}`.",
     "output_type": "error",
     "traceback": [
      "Element type mismatch. Tried to create an `Adjoint{Union{##56#57{_1,_2} where _2 where _1, Composition{_1,_2} where _2 where _1, HadMul{_1} where _1, RightMul{_1} where _1}}` from an object with eltype `Map`, but the element type of the adjoint of an object with eltype `Map` must be `Union{##56#57{_1,_2} where _2 where _1, Composition{_1,_2} where _2 where _1, HadMul{_1} where _1, RightMul{_1} where _1}`.",
      "",
      "Stacktrace:",
      " [1] error(::String) at ./error.jl:33",
      " [2] checkeltype_adjoint(::Type{Union{##56#57{_1,_2} where _2 where _1, Composition{_1,_2} where _2 where _1, HadMul{_1} where _1, RightMul{_1} where _1}}, ::Type{Map}) at /Users/osx/buildbot/slave/package_osx64/build/usr/share/julia/stdlib/v1.1/LinearAlgebra/src/adjtrans.jl:28",
      " [3] Adjoint{Union{##56#57{_1,_2} where _2 where _1, Composition{_1,_2} where _2 where _1, HadMul{_1} where _1, RightMul{_1} where _1},Array{Map,2}}(::Array{Map,2}) at /Users/osx/buildbot/slave/package_osx64/build/usr/share/julia/stdlib/v1.1/LinearAlgebra/src/adjtrans.jl:14",
      " [4] Adjoint(::Array{Map,2}) at /Users/osx/buildbot/slave/package_osx64/build/usr/share/julia/stdlib/v1.1/LinearAlgebra/src/adjtrans.jl:47",
      " [5] adjoint(::Array{Map,2}) at /Users/osx/buildbot/slave/package_osx64/build/usr/share/julia/stdlib/v1.1/LinearAlgebra/src/adjtrans.jl:76",
      " [6] _broadcast_getindex_evalf at ./broadcast.jl:578 [inlined]",
      " [7] _broadcast_getindex at ./broadcast.jl:551 [inlined]",
      " [8] getindex at ./broadcast.jl:511 [inlined]",
      " [9] copy at ./broadcast.jl:787 [inlined]",
      " [10] materialize at ./broadcast.jl:753 [inlined]",
      " [11] adjoint(::Diagonal{Array{Map,2},Array{Array{Map,2},1}}) at /Users/osx/buildbot/slave/package_osx64/build/usr/share/julia/stdlib/v1.1/LinearAlgebra/src/diagonal.jl:440",
      " [12] top-level scope at In[21]:8"
     ]
    }
   ],
   "source": [
    "X,δ = neural_net(params,x)\n",
    "D   = Diagonal([[[ (HadMul(δ[i]) ∘ RightMul(X[j]))' for j in 1:i]' HadMul(δ[i])] for i in 1:N])\n",
    "ImL = UnitLowerTriangular(Matrix{Any}(undef,N,N))\n",
    "for i in 2:N, j in 1:i-1\n",
    "    ImL[i,j] = -HadMul(δ[i]) ∘ params[i][j+1]\n",
    "end\n",
    "g  = [[Zero() for i=1:N-1]..., 𝓁′(X[N+1],y)]\n",
    "∇J = D'*fill.(ImL'\\g, 1, 1)"
   ]
  },
  {
   "cell_type": "code",
   "execution_count": 22,
   "metadata": {},
   "outputs": [],
   "source": [
    "# ∇Jfd is gradient calculated with finite differences method\n",
    "∇Jfd = params*0\n",
    "ϵ=params*0\n",
    "for i in 1:length(ϵ), j in 1:length(ϵ[i]), k in 1:length(ϵ[i][j])\n",
    "    ϵ[i][j][k] = 𝜀\n",
    "    ∇Jfd[i][j][k] =(𝓁(neural_net(params+ϵ,x)[1][N+1],y)-𝓁(neural_net(params-ϵ,x)[1][N+1],y))/2𝜀\n",
    "    ϵ[i][j][k] = .0\n",
    "end"
   ]
  },
  {
   "cell_type": "code",
   "execution_count": 23,
   "metadata": {},
   "outputs": [
    {
     "data": {
      "text/plain": [
       "4×5 Array{Float64,2}:\n",
       " -0.0355113    0.02095      0.00312179    0.0569558    0.0470081 \n",
       "  0.0022544   -0.00118706  -0.000506951  -0.00428202  -0.00329552\n",
       " -0.00561847   0.00301074   0.000444557   0.00901663   0.00711608\n",
       "  0.0148411   -0.0103891   -0.00306082   -0.0278954   -0.0234659 "
      ]
     },
     "execution_count": 23,
     "metadata": {},
     "output_type": "execute_result"
    }
   ],
   "source": [
    "∇Jfd[1][1]"
   ]
  },
  {
   "cell_type": "code",
   "execution_count": 24,
   "metadata": {},
   "outputs": [
    {
     "data": {
      "text/plain": [
       "0.0019659633544817966"
      ]
     },
     "execution_count": 24,
     "metadata": {},
     "output_type": "execute_result"
    }
   ],
   "source": [
    "∇J[1][1]"
   ]
  }
 ],
 "metadata": {
  "kernelspec": {
   "display_name": "Julia 1.1.0",
   "language": "julia",
   "name": "julia-1.1"
  },
  "language_info": {
   "file_extension": ".jl",
   "mimetype": "application/julia",
   "name": "julia",
   "version": "1.1.0"
  }
 },
 "nbformat": 4,
 "nbformat_minor": 2
}
